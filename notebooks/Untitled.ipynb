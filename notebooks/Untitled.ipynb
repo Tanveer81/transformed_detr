{
 "cells": [
  {
   "cell_type": "code",
   "execution_count": 36,
   "metadata": {},
   "outputs": [],
   "source": [
    "import os\n",
    "import matplotlib \n",
    "import numpy as np \n",
    "import matplotlib.pyplot as plt\n",
    "import matplotlib.image as mpimg\n",
    "import pickle"
   ]
  },
  {
   "cell_type": "code",
   "execution_count": 2,
   "metadata": {},
   "outputs": [],
   "source": [
    "coco_path = \"/nfs/data3/koner/data/mscoco/train2017\"\n",
    "images = os.listdir(coco_path)\n",
    "shapes = []"
   ]
  },
  {
   "cell_type": "code",
   "execution_count": 3,
   "metadata": {},
   "outputs": [],
   "source": [
    "for img in images:\n",
    "    image = mpimg.imread(coco_path+\"/\"+img)\n",
    "    shapes.append(image.shape)"
   ]
  },
  {
   "cell_type": "code",
   "execution_count": 9,
   "metadata": {},
   "outputs": [
    {
     "data": {
      "text/plain": [
       "[(405, 640, 3), (484, 640, 3), (480, 640, 3), (424, 640, 3), (480, 640, 3)]"
      ]
     },
     "execution_count": 9,
     "metadata": {},
     "output_type": "execute_result"
    }
   ],
   "source": [
    "shapes[:5]"
   ]
  },
  {
   "cell_type": "code",
   "execution_count": 5,
   "metadata": {},
   "outputs": [],
   "source": [
    "with open('coco_train_shape', 'wb') as fp:\n",
    "    pickle.dump(shapes, fp)"
   ]
  },
  {
   "cell_type": "code",
   "execution_count": 26,
   "metadata": {},
   "outputs": [],
   "source": [
    "with open ('coco_train_shape', 'rb') as fp:\n",
    "    itemlist = pickle.load(fp)"
   ]
  },
  {
   "cell_type": "code",
   "execution_count": null,
   "metadata": {},
   "outputs": [],
   "source": [
    "h = [itemlist[i][0] for i in range(len(itemlist))]\n",
    "w = [itemlist[i][1] for i in range(len(itemlist))]"
   ]
  },
  {
   "cell_type": "code",
   "execution_count": 69,
   "metadata": {},
   "outputs": [
    {
     "data": {
      "text/plain": [
       "(118287,)"
      ]
     },
     "execution_count": 69,
     "metadata": {},
     "output_type": "execute_result"
    }
   ],
   "source": [
    "#Number of images with Width>600\n",
    "a = np.array(w)\n",
    "b = a[a>600]\n",
    "a.shape"
   ]
  },
  {
   "cell_type": "code",
   "execution_count": 54,
   "metadata": {},
   "outputs": [
    {
     "name": "stdout",
     "output_type": "stream",
     "text": [
      "coco_train_data_set\n",
      "height_mean: 484.09889506031936, width_mean: 577.7120647239342, height_median: 480.0, width_median: 640.0\n"
     ]
    }
   ],
   "source": [
    "print(\"coco_train_data_set\")\n",
    "print(f\"height_mean: {np.mean(h)}, width_mean: {np.mean(w)}, height_median: {np.median(h)}, width_median: {np.median(w)}\")"
   ]
  },
  {
   "cell_type": "code",
   "execution_count": 61,
   "metadata": {},
   "outputs": [
    {
     "data": {
      "image/png": "[encoded data removed]",
      "text/plain": [
       "<Figure size 432x288 with 1 Axes>"
      ]
     },
     "metadata": {
      "needs_background": "light"
     },
     "output_type": "display_data"
    }
   ],
   "source": [
    "num_bins = 100\n",
    "n, bins, patches = plt.hist(h, num_bins, color ='blue', alpha = 0.7) \n",
    "plt.xlabel('height') \n",
    "plt.ylabel('occurances') \n",
    "plt.title('Histogram of height of coco train images', fontweight =\"bold\") \n",
    "plt.savefig(\"height_hist.jpg\") "
   ]
  },
  {
   "cell_type": "code",
   "execution_count": 62,
   "metadata": {},
   "outputs": [
    {
     "data": {
      "image/png": "[encoded data removed]",
      "text/plain": [
       "<Figure size 432x288 with 1 Axes>"
      ]
     },
     "metadata": {
      "needs_background": "light"
     },
     "output_type": "display_data"
    }
   ],
   "source": [
    "num_bins = 100\n",
    "n, bins, patches = plt.hist(w, num_bins, color ='blue', alpha = 0.7) \n",
    "plt.xlabel('width') \n",
    "plt.ylabel('occurances') \n",
    "plt.title('Histogram of width of coco train images', fontweight =\"bold\") \n",
    "plt.savefig(\"width_hist\") "
   ]
  }
 ],
 "metadata": {
  "kernelspec": {
   "display_name": "Python 3",
   "language": "python",
   "name": "python3"
  },
  "language_info": {
   "codemirror_mode": {
    "name": "ipython",
    "version": 3
   },
   "file_extension": ".py",
   "mimetype": "text/x-python",
   "name": "python",
   "nbconvert_exporter": "python",
   "pygments_lexer": "ipython3",
   "version": "3.6.12"
  }
 },
 "nbformat": 4,
 "nbformat_minor": 4
}
